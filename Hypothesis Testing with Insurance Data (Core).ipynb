{
 "cells": [
  {
   "cell_type": "code",
   "execution_count": 1,
   "id": "8aecca08",
   "metadata": {},
   "outputs": [],
   "source": [
    "import pandas as pd\n",
    "import seaborn as sns\n",
    "import numpy as np\n",
    "import matplotlib.pyplot as plt\n",
    "from scipy import stats"
   ]
  },
  {
   "cell_type": "code",
   "execution_count": 2,
   "id": "8fec4299",
   "metadata": {},
   "outputs": [
    {
     "data": {
      "text/html": [
       "<div>\n",
       "<style scoped>\n",
       "    .dataframe tbody tr th:only-of-type {\n",
       "        vertical-align: middle;\n",
       "    }\n",
       "\n",
       "    .dataframe tbody tr th {\n",
       "        vertical-align: top;\n",
       "    }\n",
       "\n",
       "    .dataframe thead th {\n",
       "        text-align: right;\n",
       "    }\n",
       "</style>\n",
       "<table border=\"1\" class=\"dataframe\">\n",
       "  <thead>\n",
       "    <tr style=\"text-align: right;\">\n",
       "      <th></th>\n",
       "      <th>age</th>\n",
       "      <th>sex</th>\n",
       "      <th>bmi</th>\n",
       "      <th>children</th>\n",
       "      <th>smoker</th>\n",
       "      <th>region</th>\n",
       "      <th>charges</th>\n",
       "    </tr>\n",
       "  </thead>\n",
       "  <tbody>\n",
       "    <tr>\n",
       "      <th>0</th>\n",
       "      <td>19</td>\n",
       "      <td>female</td>\n",
       "      <td>27.900</td>\n",
       "      <td>0</td>\n",
       "      <td>yes</td>\n",
       "      <td>southwest</td>\n",
       "      <td>16884.92400</td>\n",
       "    </tr>\n",
       "    <tr>\n",
       "      <th>1</th>\n",
       "      <td>18</td>\n",
       "      <td>male</td>\n",
       "      <td>33.770</td>\n",
       "      <td>1</td>\n",
       "      <td>no</td>\n",
       "      <td>southeast</td>\n",
       "      <td>1725.55230</td>\n",
       "    </tr>\n",
       "    <tr>\n",
       "      <th>2</th>\n",
       "      <td>28</td>\n",
       "      <td>male</td>\n",
       "      <td>33.000</td>\n",
       "      <td>3</td>\n",
       "      <td>no</td>\n",
       "      <td>southeast</td>\n",
       "      <td>4449.46200</td>\n",
       "    </tr>\n",
       "    <tr>\n",
       "      <th>3</th>\n",
       "      <td>33</td>\n",
       "      <td>male</td>\n",
       "      <td>22.705</td>\n",
       "      <td>0</td>\n",
       "      <td>no</td>\n",
       "      <td>northwest</td>\n",
       "      <td>21984.47061</td>\n",
       "    </tr>\n",
       "    <tr>\n",
       "      <th>4</th>\n",
       "      <td>32</td>\n",
       "      <td>male</td>\n",
       "      <td>28.880</td>\n",
       "      <td>0</td>\n",
       "      <td>no</td>\n",
       "      <td>northwest</td>\n",
       "      <td>3866.85520</td>\n",
       "    </tr>\n",
       "  </tbody>\n",
       "</table>\n",
       "</div>"
      ],
      "text/plain": [
       "   age     sex     bmi  children smoker     region      charges\n",
       "0   19  female  27.900         0    yes  southwest  16884.92400\n",
       "1   18    male  33.770         1     no  southeast   1725.55230\n",
       "2   28    male  33.000         3     no  southeast   4449.46200\n",
       "3   33    male  22.705         0     no  northwest  21984.47061\n",
       "4   32    male  28.880         0     no  northwest   3866.85520"
      ]
     },
     "execution_count": 2,
     "metadata": {},
     "output_type": "execute_result"
    }
   ],
   "source": [
    "df = pd.read_csv('Data/insurance - insurance.csv')\n",
    "df = df.drop_duplicates()\n",
    "df.head()"
   ]
  },
  {
   "cell_type": "code",
   "execution_count": 3,
   "id": "22bbea32",
   "metadata": {},
   "outputs": [
    {
     "data": {
      "text/plain": [
       "(1337, 7)"
      ]
     },
     "execution_count": 3,
     "metadata": {},
     "output_type": "execute_result"
    }
   ],
   "source": [
    "df.shape"
   ]
  },
  {
   "cell_type": "code",
   "execution_count": 4,
   "id": "dcfacecb",
   "metadata": {},
   "outputs": [
    {
     "data": {
      "image/png": "[encoded data removed]",
      "text/plain": [
       "<Figure size 640x480 with 1 Axes>"
      ]
     },
     "metadata": {},
     "output_type": "display_data"
    }
   ],
   "source": [
    "sns.barplot(data=df, x='smoker', y='charges');"
   ]
  },
  {
   "cell_type": "code",
   "execution_count": 5,
   "id": "1a20af41",
   "metadata": {},
   "outputs": [],
   "source": [
    "# seperate smokers from non-smokers\n",
    "df_smoker = df[df['smoker']=='yes']\n",
    "df_nonsmoker = df[df['smoker']=='no']"
   ]
  },
  {
   "cell_type": "markdown",
   "id": "6669d261",
   "metadata": {},
   "source": [
    "# Q1. Do smokers have higher insurance charges than non-smokers?"
   ]
  },
  {
   "cell_type": "markdown",
   "id": "f386e39c",
   "metadata": {},
   "source": [
    "## Stating Hypothesis\n",
    "\n",
    " - $H_0$: There is no difference between smokers and non smokers regarding insurance charges.\n",
    "\n",
    " - $H_1$: There is a difference between smokers and non-smokers in insurance charges.\n",
    "\n",
    "Data Type : Numeric\n",
    "\n",
    "Samples: 2 samples/groups\n",
    "\n",
    "Test : 2 Sample T-Test\n",
    "\n",
    "Assumptions : \n",
    " - No significant outliers \n",
    " - Normality \n",
    " - Equal Variance "
   ]
  },
  {
   "cell_type": "code",
   "execution_count": 6,
   "id": "e4a41ad8",
   "metadata": {},
   "outputs": [
    {
     "name": "stdout",
     "output_type": "stream",
     "text": [
      "charges for smokers 0       16884.92400\n",
      "11      27808.72510\n",
      "14      39611.75770\n",
      "19      36837.46700\n",
      "23      37701.87680\n",
      "           ...     \n",
      "1313    36397.57600\n",
      "1314    18765.87545\n",
      "1321    28101.33305\n",
      "1323    43896.37630\n",
      "1337    29141.36030\n",
      "Name: charges, Length: 274, dtype: float64\n",
      "charges for nonsmokers 1        1725.55230\n",
      "2        4449.46200\n",
      "3       21984.47061\n",
      "4        3866.85520\n",
      "5        3756.62160\n",
      "           ...     \n",
      "1332    11411.68500\n",
      "1333    10600.54830\n",
      "1334     2205.98080\n",
      "1335     1629.83350\n",
      "1336     2007.94500\n",
      "Name: charges, Length: 1063, dtype: float64\n"
     ]
    }
   ],
   "source": [
    "# seperate smoker charges from non-smoker charges\n",
    "smoker_charges = df_smoker['charges']\n",
    "nonsmoker_charges = df_nonsmoker['charges']\n",
    "\n",
    "print(\"charges for smokers\", smoker_charges)\n",
    "print(\"charges for nonsmokers\", nonsmoker_charges)"
   ]
  },
  {
   "cell_type": "code",
   "execution_count": 7,
   "id": "d707ad1a",
   "metadata": {},
   "outputs": [
    {
     "name": "stdout",
     "output_type": "stream",
     "text": [
      "0\n"
     ]
    }
   ],
   "source": [
    "# Check for outliers in smokers charges\n",
    "smoker_zscores= stats.zscore(smoker_charges)\n",
    "smoker_outliers = abs(smoker_zscores)>3\n",
    "print(np.sum(smoker_outliers))"
   ]
  },
  {
   "cell_type": "code",
   "execution_count": 8,
   "id": "76e012ba",
   "metadata": {},
   "outputs": [
    {
     "name": "stdout",
     "output_type": "stream",
     "text": [
      "24\n"
     ]
    }
   ],
   "source": [
    "# Check for outliers in nonsmokers charges\n",
    "non_zscores= stats.zscore(nonsmoker_charges)\n",
    "non_outliers = abs(non_zscores)>3\n",
    "print(np.sum(non_outliers))"
   ]
  },
  {
   "cell_type": "code",
   "execution_count": 9,
   "id": "39ccda83",
   "metadata": {},
   "outputs": [
    {
     "name": "stdout",
     "output_type": "stream",
     "text": [
      "1063\n",
      "1039\n"
     ]
    }
   ],
   "source": [
    "# remove outliers from nonsmoker charges\n",
    "print(len(nonsmoker_charges))\n",
    "nonsmoker_charges = nonsmoker_charges[non_outliers == False] \n",
    "print(len(nonsmoker_charges))"
   ]
  },
  {
   "cell_type": "code",
   "execution_count": 10,
   "id": "09561110",
   "metadata": {},
   "outputs": [
    {
     "data": {
      "text/plain": [
       "NormaltestResult(statistic=61.03941356533816, pvalue=5.564930630036463e-14)"
      ]
     },
     "execution_count": 10,
     "metadata": {},
     "output_type": "execute_result"
    }
   ],
   "source": [
    "# check for normality\n",
    "result = stats.normaltest(smoker_charges)\n",
    "result"
   ]
  },
  {
   "cell_type": "code",
   "execution_count": 11,
   "id": "9fa029cf",
   "metadata": {},
   "outputs": [
    {
     "data": {
      "text/plain": [
       "NormaltestResult(statistic=163.70821423990097, pvalue=2.8262654970074626e-36)"
      ]
     },
     "execution_count": 11,
     "metadata": {},
     "output_type": "execute_result"
    }
   ],
   "source": [
    "# check for normality\n",
    "result = stats.normaltest(nonsmoker_charges)\n",
    "result\n"
   ]
  },
  {
   "cell_type": "markdown",
   "id": "3448858c",
   "metadata": {},
   "source": [
    "Both normality tests have failed which indicates that the data is not a normal distribution."
   ]
  },
  {
   "cell_type": "markdown",
   "id": "727098ea",
   "metadata": {},
   "source": [
    "Despite both test showing a non-normal distibution we can ignore this assumption because we n>15."
   ]
  },
  {
   "cell_type": "code",
   "execution_count": 12,
   "id": "053f19bc",
   "metadata": {},
   "outputs": [
    {
     "data": {
      "text/plain": [
       "LeveneResult(statistic=520.7178262969225, pvalue=2.512613039096279e-97)"
      ]
     },
     "execution_count": 12,
     "metadata": {},
     "output_type": "execute_result"
    }
   ],
   "source": [
    "# levenes test\n",
    "result = stats.levene(smoker_charges, nonsmoker_charges)\n",
    "result"
   ]
  },
  {
   "cell_type": "markdown",
   "id": "6f926618",
   "metadata": {},
   "source": [
    "We failed the equal variance test. Therefore we need to use an alternative test. "
   ]
  },
  {
   "cell_type": "code",
   "execution_count": 13,
   "id": "ab85809a",
   "metadata": {},
   "outputs": [
    {
     "data": {
      "text/plain": [
       "Ttest_indResult(statistic=33.723466247187815, pvalue=2.7282718648018296e-104)"
      ]
     },
     "execution_count": 13,
     "metadata": {},
     "output_type": "execute_result"
    }
   ],
   "source": [
    "result = stats.ttest_ind(smoker_charges, nonsmoker_charges, equal_var=False)\n",
    "result"
   ]
  },
  {
   "cell_type": "markdown",
   "id": "0fb1412a",
   "metadata": {},
   "source": [
    "Because p < .05 we reject the null hypothesis. "
   ]
  },
  {
   "cell_type": "code",
   "execution_count": 14,
   "id": "9cbfb64b",
   "metadata": {},
   "outputs": [
    {
     "name": "stdout",
     "output_type": "stream",
     "text": [
      "Mean smoker charges :  32050.23183153284\n",
      "Mean non-smoker charges 7945.9246538585185\n"
     ]
    },
    {
     "data": {
      "image/png": "[encoded data removed]",
      "text/plain": [
       "<Figure size 640x480 with 1 Axes>"
      ]
     },
     "metadata": {},
     "output_type": "display_data"
    }
   ],
   "source": [
    "ax = sns.barplot(data=df, x='smoker', y='charges')\n",
    "print(\"Mean smoker charges : \", smoker_charges.mean())\n",
    "print(\"Mean non-smoker charges\", nonsmoker_charges.mean())\n",
    "ax.set_title('Insurance charges for smokers and non-smokers')\n",
    "plt.savefig('Visuals/charges_barplot.png', pad_inches=1)"
   ]
  },
  {
   "cell_type": "markdown",
   "id": "a7bfa946",
   "metadata": {},
   "source": [
    "# Q2. Are men more likely to smoke than women?"
   ]
  },
  {
   "cell_type": "markdown",
   "id": "c465b0ec",
   "metadata": {},
   "source": [
    "## Stating Hypothesis\n",
    "$H_0$: Men and women are equally likely to be smokers.\n",
    "\n",
    "$H_1$: There is a difference between Men and women in there likelyhood of being a smoker. \n",
    "\n",
    "Data Type : Categorical\n",
    "\n",
    "Sample : 2 samples/groups\n",
    "\n",
    "Test : Chi-Square\n",
    "\n",
    "Assumptions : \n",
    " - There are two categorical variables (ordinal or nominal), And\n",
    " - Their outcomes are independent."
   ]
  },
  {
   "cell_type": "code",
   "execution_count": 15,
   "id": "8c20e9cb",
   "metadata": {},
   "outputs": [
    {
     "data": {
      "image/png": "[encoded data removed]",
      "text/plain": [
       "<Figure size 640x480 with 1 Axes>"
      ]
     },
     "metadata": {},
     "output_type": "display_data"
    }
   ],
   "source": [
    "ax = sns.countplot(data=df, x='sex',hue='smoker')\n",
    "ax.set_title(\"Number of Smokers by Sex\");\n",
    "plt.savefig('Visuals/numberofsmokers_barplot.png', pad_inches=1)"
   ]
  },
  {
   "cell_type": "code",
   "execution_count": 26,
   "id": "c73c7ef9",
   "metadata": {},
   "outputs": [
    {
     "data": {
      "text/html": [
       "<div>\n",
       "<style scoped>\n",
       "    .dataframe tbody tr th:only-of-type {\n",
       "        vertical-align: middle;\n",
       "    }\n",
       "\n",
       "    .dataframe tbody tr th {\n",
       "        vertical-align: top;\n",
       "    }\n",
       "\n",
       "    .dataframe thead th {\n",
       "        text-align: right;\n",
       "    }\n",
       "</style>\n",
       "<table border=\"1\" class=\"dataframe\">\n",
       "  <thead>\n",
       "    <tr style=\"text-align: right;\">\n",
       "      <th>sex</th>\n",
       "      <th>female</th>\n",
       "      <th>male</th>\n",
       "    </tr>\n",
       "    <tr>\n",
       "      <th>smoker</th>\n",
       "      <th></th>\n",
       "      <th></th>\n",
       "    </tr>\n",
       "  </thead>\n",
       "  <tbody>\n",
       "    <tr>\n",
       "      <th>no</th>\n",
       "      <td>547</td>\n",
       "      <td>516</td>\n",
       "    </tr>\n",
       "    <tr>\n",
       "      <th>yes</th>\n",
       "      <td>115</td>\n",
       "      <td>159</td>\n",
       "    </tr>\n",
       "  </tbody>\n",
       "</table>\n",
       "</div>"
      ],
      "text/plain": [
       "sex     female  male\n",
       "smoker              \n",
       "no         547   516\n",
       "yes        115   159"
      ]
     },
     "execution_count": 26,
     "metadata": {},
     "output_type": "execute_result"
    }
   ],
   "source": [
    "# calculate the contingency table with pd.cross-tab\n",
    "table = pd.crosstab(df['smoker'], df['sex'])\n",
    "table"
   ]
  },
  {
   "cell_type": "code",
   "execution_count": 17,
   "id": "1564fd91",
   "metadata": {},
   "outputs": [
    {
     "data": {
      "text/plain": [
       "0.0062765550120107375"
      ]
     },
     "execution_count": 17,
     "metadata": {},
     "output_type": "execute_result"
    }
   ],
   "source": [
    "# Run the Test and Save the Output\n",
    "result = stats.chi2_contingency(table)\n",
    "chi2, p, deg_free, expected_vals = result #this labels the results\n",
    "p"
   ]
  },
  {
   "cell_type": "markdown",
   "id": "5d37454e",
   "metadata": {},
   "source": [
    "Because we have a significant p value we reject our null hypothesis. We conclude that there is a difference between males and female smokers.\n",
    "It appears that males are more likely to be smokers."
   ]
  },
  {
   "cell_type": "code",
   "execution_count": 18,
   "id": "902a99f4",
   "metadata": {},
   "outputs": [
    {
     "data": {
      "text/html": [
       "<div>\n",
       "<style scoped>\n",
       "    .dataframe tbody tr th:only-of-type {\n",
       "        vertical-align: middle;\n",
       "    }\n",
       "\n",
       "    .dataframe tbody tr th {\n",
       "        vertical-align: top;\n",
       "    }\n",
       "\n",
       "    .dataframe thead th {\n",
       "        text-align: right;\n",
       "    }\n",
       "</style>\n",
       "<table border=\"1\" class=\"dataframe\">\n",
       "  <thead>\n",
       "    <tr style=\"text-align: right;\">\n",
       "      <th>sex</th>\n",
       "      <th>female</th>\n",
       "      <th>male</th>\n",
       "    </tr>\n",
       "    <tr>\n",
       "      <th>smoker</th>\n",
       "      <th></th>\n",
       "      <th></th>\n",
       "    </tr>\n",
       "  </thead>\n",
       "  <tbody>\n",
       "    <tr>\n",
       "      <th>no</th>\n",
       "      <td>0.826284</td>\n",
       "      <td>0.764444</td>\n",
       "    </tr>\n",
       "    <tr>\n",
       "      <th>yes</th>\n",
       "      <td>0.173716</td>\n",
       "      <td>0.235556</td>\n",
       "    </tr>\n",
       "  </tbody>\n",
       "</table>\n",
       "</div>"
      ],
      "text/plain": [
       "sex       female      male\n",
       "smoker                    \n",
       "no      0.826284  0.764444\n",
       "yes     0.173716  0.235556"
      ]
     },
     "execution_count": 18,
     "metadata": {},
     "output_type": "execute_result"
    }
   ],
   "source": [
    "table = pd.crosstab(df['smoker'], df['sex'], normalize='columns')\n",
    "table"
   ]
  },
  {
   "cell_type": "markdown",
   "id": "ba1b25c3",
   "metadata": {},
   "source": [
    "# Q3. Do different regions have different charges, on average?"
   ]
  },
  {
   "cell_type": "markdown",
   "id": "20d39443",
   "metadata": {},
   "source": [
    "## Stating Hypothesis\n",
    "$H_0$: There is no difference in charges between regions.\n",
    "\n",
    "$H_1$: There is a difference in charges, on average, between regions.\n",
    "\n",
    "Data Type : Numerical\n",
    "\n",
    "Sample : More than 2 samples/groups\n",
    "\n",
    "Test : ANOVA and/or Tukey\n",
    "\n",
    "Assumptions : \n",
    " - No significant outliers \n",
    " - Equal variance \n",
    " - Normality"
   ]
  },
  {
   "cell_type": "code",
   "execution_count": 19,
   "id": "51c3ae89",
   "metadata": {},
   "outputs": [
    {
     "data": {
      "image/png": "[encoded data removed]",
      "text/plain": [
       "<Figure size 640x480 with 1 Axes>"
      ]
     },
     "metadata": {},
     "output_type": "display_data"
    }
   ],
   "source": [
    "sns.barplot(data=df, x='region',y='charges');"
   ]
  },
  {
   "cell_type": "code",
   "execution_count": 20,
   "id": "ed07675d",
   "metadata": {},
   "outputs": [
    {
     "data": {
      "text/plain": [
       "dict_keys(['southwest', 'southeast', 'northwest', 'northeast'])"
      ]
     },
     "execution_count": 20,
     "metadata": {},
     "output_type": "execute_result"
    }
   ],
   "source": [
    "## Create groups dictionary. \n",
    "groups = {}\n",
    "## Loop through all unique categories\n",
    "for i in df['region'].unique():\n",
    "    \n",
    "    ## Get series for group and rename\n",
    "    data = df.loc[df['region']==i,'charges'].copy()\n",
    "    \n",
    "    # save into the dictionary\n",
    "    groups[i] = data\n",
    "    \n",
    "groups.keys()"
   ]
  },
  {
   "cell_type": "code",
   "execution_count": 21,
   "id": "024dea53",
   "metadata": {},
   "outputs": [
    {
     "name": "stdout",
     "output_type": "stream",
     "text": [
      "\n",
      "For region :  southwest \n",
      "Number of outliers :  8\n",
      "\n",
      "For region :  southeast \n",
      "Number of outliers :  2\n",
      "\n",
      "For region :  northwest \n",
      "Number of outliers :  7\n",
      "\n",
      "For region :  northeast \n",
      "Number of outliers :  4\n"
     ]
    }
   ],
   "source": [
    "clean_groups = {}\n",
    "\n",
    "for i, j in groups.items():\n",
    "    # Find the outliers \n",
    "    idx_outliers = np.abs(stats.zscore(j))>3\n",
    "    \n",
    "    # display how many there are\n",
    "    print(\"\\nFor region : \", i, \"\\nNumber of outliers : \", idx_outliers.sum())\n",
    "    \n",
    "    # store which rows are outliers and which aren't\n",
    "    temp = j[idx_outliers==False]\n",
    "    \n",
    "    #combine the non-outliers with original dict\n",
    "    clean_groups[i] = temp"
   ]
  },
  {
   "cell_type": "code",
   "execution_count": 22,
   "id": "9e8552fb",
   "metadata": {},
   "outputs": [
    {
     "data": {
      "text/html": [
       "<div>\n",
       "<style scoped>\n",
       "    .dataframe tbody tr th:only-of-type {\n",
       "        vertical-align: middle;\n",
       "    }\n",
       "\n",
       "    .dataframe tbody tr th {\n",
       "        vertical-align: top;\n",
       "    }\n",
       "\n",
       "    .dataframe thead th {\n",
       "        text-align: right;\n",
       "    }\n",
       "</style>\n",
       "<table border=\"1\" class=\"dataframe\">\n",
       "  <thead>\n",
       "    <tr style=\"text-align: right;\">\n",
       "      <th></th>\n",
       "      <th>n</th>\n",
       "      <th>p</th>\n",
       "      <th>test stat</th>\n",
       "      <th>sig</th>\n",
       "    </tr>\n",
       "  </thead>\n",
       "  <tbody>\n",
       "    <tr>\n",
       "      <th>southwest</th>\n",
       "      <td>317.0</td>\n",
       "      <td>7.728611e-22</td>\n",
       "      <td>97.223886</td>\n",
       "      <td>True</td>\n",
       "    </tr>\n",
       "    <tr>\n",
       "      <th>southeast</th>\n",
       "      <td>362.0</td>\n",
       "      <td>1.936990e-13</td>\n",
       "      <td>58.544942</td>\n",
       "      <td>True</td>\n",
       "    </tr>\n",
       "    <tr>\n",
       "      <th>northwest</th>\n",
       "      <td>317.0</td>\n",
       "      <td>3.547435e-19</td>\n",
       "      <td>84.965784</td>\n",
       "      <td>True</td>\n",
       "    </tr>\n",
       "    <tr>\n",
       "      <th>northeast</th>\n",
       "      <td>320.0</td>\n",
       "      <td>3.557877e-17</td>\n",
       "      <td>75.749565</td>\n",
       "      <td>True</td>\n",
       "    </tr>\n",
       "  </tbody>\n",
       "</table>\n",
       "</div>"
      ],
      "text/plain": [
       "               n             p  test stat   sig\n",
       "southwest  317.0  7.728611e-22  97.223886  True\n",
       "southeast  362.0  1.936990e-13  58.544942  True\n",
       "northwest  317.0  3.547435e-19  84.965784  True\n",
       "northeast  320.0  3.557877e-17  75.749565  True"
      ]
     },
     "execution_count": 22,
     "metadata": {},
     "output_type": "execute_result"
    }
   ],
   "source": [
    "## Running normal test on each group and confirming there are >20 in each group\n",
    "norm_results = {}\n",
    "for i, data in clean_groups.items():\n",
    "    # test\n",
    "    stat, p = stats.normaltest(data)\n",
    "    \n",
    "    ## save the p val, test statistic, and the size of the group\n",
    "    norm_results[i] = {'n': len(data), 'p':p, 'test stat':stat}\n",
    "    \n",
    "## convert to a dataframe\n",
    "norm_results_df = pd.DataFrame(norm_results).T\n",
    "\n",
    "### checking sig with pandas \n",
    "norm_results_df['sig'] = norm_results_df['p'] < .05 \n",
    "norm_results_df"
   ]
  },
  {
   "cell_type": "code",
   "execution_count": 23,
   "id": "49db0289",
   "metadata": {},
   "outputs": [
    {
     "data": {
      "text/plain": [
       "LeveneResult(statistic=5.553479860699911, pvalue=0.0008689544824002284)"
      ]
     },
     "execution_count": 23,
     "metadata": {},
     "output_type": "execute_result"
    }
   ],
   "source": [
    "# Test\n",
    "stats.levene(*groups.values())"
   ]
  },
  {
   "cell_type": "markdown",
   "id": "8cd18408",
   "metadata": {},
   "source": [
    "Because p < .05, we reject the null hypothesis and the data is not equal variant."
   ]
  },
  {
   "cell_type": "code",
   "execution_count": 24,
   "id": "7fcaf691",
   "metadata": {},
   "outputs": [
    {
     "data": {
      "text/plain": [
       "KruskalResult(statistic=4.622506584464645, pvalue=0.20161983372311595)"
      ]
     },
     "execution_count": 24,
     "metadata": {},
     "output_type": "execute_result"
    }
   ],
   "source": [
    "# perform the correct hypothesis test\n",
    "result = stats.kruskal( *groups.values())\n",
    "result"
   ]
  },
  {
   "cell_type": "code",
   "execution_count": 25,
   "id": "0ce3d923",
   "metadata": {},
   "outputs": [
    {
     "data": {
      "image/png": "[encoded data removed]",
      "text/plain": [
       "<Figure size 640x480 with 1 Axes>"
      ]
     },
     "metadata": {},
     "output_type": "display_data"
    }
   ],
   "source": [
    "ax = sns.barplot(data=df, x='region',y='charges');\n",
    "ax.set_title(\"Charges by Region\")\n",
    "plt.savefig('Visuals/chargesbyregion_barplot.png', pad_inches=1)"
   ]
  },
  {
   "cell_type": "markdown",
   "id": "9477e3f6",
   "metadata": {},
   "source": [
    "Because p > .05 we fail to reject the null hypothesis or we failed to conclude that its NOT due to random chance."
   ]
  }
 ],
 "metadata": {
  "kernelspec": {
   "display_name": "Python (dojo-env)",
   "language": "python",
   "name": "dojo-env"
  },
  "language_info": {
   "codemirror_mode": {
    "name": "ipython",
    "version": 3
   },
   "file_extension": ".py",
   "mimetype": "text/x-python",
   "name": "python",
   "nbconvert_exporter": "python",
   "pygments_lexer": "ipython3",
   "version": "3.8.13"
  },
  "toc": {
   "base_numbering": 1,
   "nav_menu": {},
   "number_sections": false,
   "sideBar": true,
   "skip_h1_title": false,
   "title_cell": "Table of Contents",
   "title_sidebar": "Contents",
   "toc_cell": false,
   "toc_position": {},
   "toc_section_display": true,
   "toc_window_display": false
  }
 },
 "nbformat": 4,
 "nbformat_minor": 5
}
